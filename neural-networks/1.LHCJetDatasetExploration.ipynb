{
  "cells": [
    {
      "cell_type": "markdown",
      "metadata": {
        "id": "z2P7i7u9Q8mv"
      },
      "source": [
        "# Dataset Exploration\n",
        "\n",
        "---\n",
        "In this notebook, we explore the in put data file and the different datasets contained in it\n",
        "- A set of physics-motivated high-level features \n",
        "- Jets represented as an image\n",
        "- Jets represented as a list of particles\n",
        "These different representations will be used to train different kind of networks while solving the same problem,\n",
        "a classification task aiming to distinguish jets originating from quarks, gluons, Ws, Zs, or top quarks.\n",
        "\n",
        "---\n",
        "\n",
        "We start loading the main libraries\n",
        "- h5py to read the input HDF5 file\n",
        "- numpy top handle the datasets stored there\n",
        "- matplotlib for graphs\n",
        "---"
      ]
    },
    {
      "cell_type": "code",
      "execution_count": null,
      "metadata": {
        "id": "XDuPVEm_Q8my"
      },
      "outputs": [],
      "source": [
        "import h5py\n",
        "import numpy as np\n",
        "import matplotlib.pyplot as plt\n",
        "%matplotlib inline"
      ]
    },
    {
      "cell_type": "markdown",
      "metadata": {
        "id": "gNKuxZndQ8mz"
      },
      "source": [
        "## Reading the data\n",
        "\n",
        "---\n",
        "In order to import the dataset, we now\n",
        "- clone the dataset repository (to import the data in Colab)\n",
        "- load the h5 files in the data/ repository\n",
        "- extract the data we need: a target and jetImage \n",
        "\n",
        "To type shell commands, we start the command line with !\n",
        "\n",
        "**nb, if you are running locally and you have already downloaded the datasets you can skip the cell below and, if needed, change the paths later to point to the folder with your previous download of the datasets.**"
      ]
    },
    {
      "cell_type": "code",
      "execution_count": null,
      "metadata": {
        "id": "5B8ylbkIQ8mz"
      },
      "outputs": [],
      "source": [
        "! curl https://cernbox.cern.ch/s/6Ec5pGFEpFWeH6S/download -o Data-MLtutorial.tar.gz\n",
        "! tar -xvzf Data-MLtutorial.tar.gz \n",
        "! ls Data-MLtutorial/JetDataset/\n",
        "! rm Data-MLtutorial.tar.gz "
      ]
    },
    {
      "cell_type": "code",
      "execution_count": null,
      "metadata": {
        "id": "t36Pjm1fQ8m1"
      },
      "outputs": [],
      "source": [
        "# let's open the file\n",
        "fileIN = 'Data-MLtutorial/JetDataset/jetImage_7_100p_30000_40000.h5'\n",
        "f = h5py.File(fileIN)\n",
        "# and see what it contains\n",
        "print(list(f.keys()))"
      ]
    },
    {
      "cell_type": "markdown",
      "metadata": {
        "id": "yudavOOhQ8m2"
      },
      "source": [
        "---\n",
        "- 'jetImage' contains the image representation of the jets (more later)\n",
        "- 'jetImageECAL' and 'jetImageHCAL' are the ECAL- and HCAL-only equivalent images. We will not use them (but you are more than welcome to play with it)\n",
        "- 'jetConstituentList' is the list of particles cointained in the jet. For each particle, a list of relevant quantities is stored\n",
        "- 'particleFeatureNames' is the list of the names corresponding to the quantities contained in 'jetConstituentList'\n",
        "- 'jets' is the dataset we consider for the moment\n",
        "- 'jetFeatureNames' is the list of the names corresponding to the quantities contained in 'jets'\n",
        "\n",
        "The first 100 highest-$p_T$ particles are considered for each jet\n",
        "\n",
        "---"
      ]
    },
    {
      "cell_type": "markdown",
      "metadata": {
        "id": "xMFbHOZsQ8m3"
      },
      "source": [
        "## The physics-motivated high-level features\n",
        "\n",
        "We then open the input file and load the 'jet' data, containing\n",
        "- the discriminating quantities\n",
        "- the truth (which kind of jet we are dealing with)"
      ]
    },
    {
      "cell_type": "code",
      "execution_count": null,
      "metadata": {
        "id": "uTbm8hcNQ8m3"
      },
      "outputs": [],
      "source": [
        "# These are the quantities we are dealing with\n",
        "featurenames = f.get('jetFeatureNames')\n",
        "print(featurenames[:])\n",
        "# the b is due to the byte vs utf-8 encoding of the strings in the dataset\n",
        "# just ignore them for the moment"
      ]
    },
    {
      "cell_type": "markdown",
      "metadata": {
        "id": "241J64TfQ8m4"
      },
      "source": [
        "---\n",
        "The ground truth is incorporated in the ['j_g', 'j_q', 'j_w', 'j_z', 'j_t] vector of boolean, taking the form\n",
        "- [1, 0, 0, 0, 0] for gluons\n",
        "- [0, 1, 0, 0, 0] for quarks\n",
        "- [0, 0, 1, 0, 0] for Ws\n",
        "- [0, 0, 0, 1, 0] for Zs\n",
        "- [0, 0, 0, 0, 1] for tops\n",
        "\n",
        "This is what is called 'one-hot' encoding of a descrete label (typical of ground truth for classification problems)\n",
        "\n",
        "We define the 'target' of our problem the set of these labels"
      ]
    },
    {
      "cell_type": "code",
      "execution_count": null,
      "metadata": {
        "id": "Z290lJYKQ8m5",
        "scrolled": true
      },
      "outputs": [],
      "source": [
        "jet_data = np.array(f.get('jets'))\n",
        "target = jet_data[:,-6:-1]\n",
        "# shape of the dataset\n",
        "print(\"Dataset shape:\")\n",
        "print(target.shape)\n",
        "print(\"First five entries:\")\n",
        "for i in range(5):\n",
        "    print(target[i])\n",
        "print(\"Last 5 entries:\")\n",
        "for i in range(-5,0):\n",
        "    print(target[i])"
      ]
    },
    {
      "cell_type": "markdown",
      "metadata": {
        "id": "MlrlY4OgQ8m6"
      },
      "source": [
        "As you can see there are 10K examples in this file. We will need more for a meaningful training (more later)\n",
        "\n",
        "---"
      ]
    },
    {
      "cell_type": "markdown",
      "metadata": {
        "id": "VTVP8yRrQ8m7"
      },
      "source": [
        "And now the feature dataset"
      ]
    },
    {
      "cell_type": "code",
      "execution_count": null,
      "metadata": {
        "id": "px02-P2vQ8m7"
      },
      "outputs": [],
      "source": [
        "data = np.array(jet_data[:,:-6])\n",
        "print(data.shape)"
      ]
    },
    {
      "cell_type": "markdown",
      "metadata": {
        "id": "jEdrmCo5Q8m8"
      },
      "source": [
        "We have 53 features for each of the 66K jets\n",
        "We now make some plot\n",
        "--- "
      ]
    },
    {
      "cell_type": "code",
      "execution_count": null,
      "metadata": {
        "id": "g3E6wpS9Q8m8"
      },
      "outputs": [],
      "source": [
        "labelCat= [\"gluon\", \"quark\", \"W\", \"Z\", \"top\"]\n",
        "# this function makes the histogram of a given quantity for the five classes\n",
        "def makePlot(feature_index, input_data, input_featurenames):\n",
        "    plt.subplots()\n",
        "    for i in range(len(labelCat)):\n",
        "        # notice the use of numpy masking to select specific classes of jets\n",
        "        my_data = input_data[np.argmax(target, axis=1) == i]\n",
        "        # then plot the right quantity for the reduced array\n",
        "        plt.hist(my_data[:,feature_index], 50, density=True, histtype='step', fill=False, linewidth=1.5)\n",
        "    plt.yscale('log')    \n",
        "    plt.legend(labelCat, fontsize=12, frameon=False)\n",
        "    plt.xlabel(str(input_featurenames[feature_index], \"utf-8\"), fontsize=15)\n",
        "    plt.ylabel('Prob. Density (a.u.)', fontsize=15)\n",
        "    plt.show()\n",
        "    #del fig, ax\n",
        "    #return fig, ax"
      ]
    },
    {
      "cell_type": "code",
      "execution_count": null,
      "metadata": {
        "id": "LKEI0vq_Q8m9"
      },
      "outputs": [],
      "source": [
        "# we now plot all the features\n",
        "for i in range(len(featurenames[:-6])):\n",
        "    makePlot(i, data, featurenames)\n",
        "    #fig.show()"
      ]
    },
    {
      "cell_type": "markdown",
      "metadata": {
        "id": "GlNM5jgnQ8m9"
      },
      "source": [
        "More information on these quantities can be found in https://arxiv.org/pdf/1709.08705.pdf\n",
        "\n",
        "---"
      ]
    },
    {
      "cell_type": "markdown",
      "metadata": {
        "id": "KFEnFDATQ8m-"
      },
      "source": [
        "# The image dataset\n",
        "\n",
        "Jets can be converted to images considering the (&eta;, &phi;) plane, centered along the axis direction and binned.\n",
        "In our case, we consider a square of 1.6x1.6 in size (because the jet size is R=0.8) binned in 100x100 equal-size 'cells'"
      ]
    },
    {
      "cell_type": "code",
      "execution_count": null,
      "metadata": {
        "id": "mPfUOSLDQ8m-"
      },
      "outputs": [],
      "source": [
        "from matplotlib.colors import LogNorm\n",
        "labelCat= [\"gluon\", \"quark\", \"W\", \"Z\", \"top\"]\n",
        "image = np.array(f.get('jetImage'))\n",
        "image_g = image[np.argmax(target, axis=1) == 0]\n",
        "image_q = image[np.argmax(target, axis=1) == 1]\n",
        "image_W = image[np.argmax(target, axis=1) == 2]\n",
        "image_Z = image[np.argmax(target, axis=1) == 3]\n",
        "image_t = image[np.argmax(target, axis=1) == 4]\n",
        "images = [image_q, image_g, image_W, image_Z, image_t]\n",
        "#plt.rc('text', usetex=True) #you can uncomment this if you have a latex installation\n",
        "plt.rc('font', family='serif')\n",
        "for i in range(len(images)):\n",
        "    SUM_Image = np.sum(images[i], axis = 0)\n",
        "    plt.imshow(SUM_Image/float(images[i].shape[0]), origin='lower',norm=LogNorm(vmin=0.01))\n",
        "    plt.colorbar()\n",
        "    plt.title(labelCat[i], fontsize=15)\n",
        "    plt.xlabel(\"Delta_eta cell\", fontsize=15)\n",
        "    plt.ylabel(\"Delta_phi cell\", fontsize=15)\n",
        "    plt.show()"
      ]
    },
    {
      "cell_type": "markdown",
      "metadata": {
        "id": "sDqswz4yQ8m-"
      },
      "source": [
        "# The particle-list dataset\n",
        "\n",
        "In this case, we look at the particle-related features that we have stored for each jet constituent. The structure of the dataset is similar to that of the physics-motivated features, except for the fact that we have now a double-index dataset: (jet index, particle index).\n",
        "The list is cut at 100 constituents /jet. If less are found, the dataset is completed filling it with 0s (zero padding)"
      ]
    },
    {
      "cell_type": "code",
      "execution_count": null,
      "metadata": {
        "id": "3RHM9xDOQ8m_"
      },
      "outputs": [],
      "source": [
        "p_featurenames = f.get(\"particleFeatureNames\")\n",
        "print(p_featurenames[:])"
      ]
    },
    {
      "cell_type": "code",
      "execution_count": null,
      "metadata": {
        "id": "XTV65ABvQ8m_"
      },
      "outputs": [],
      "source": [
        "p_data = f.get(\"jetConstituentList\")\n",
        "print(p_data.shape)"
      ]
    },
    {
      "cell_type": "code",
      "execution_count": null,
      "metadata": {
        "id": "iDx0NgFFQ8m_"
      },
      "outputs": [],
      "source": [
        "labelCat= [\"gluon\", \"quark\", \"W\", \"Z\", \"top\"]\n",
        "# this function makes the histogram of a given quantity for the five classes\n",
        "def makePlot_p(feature_index, input_data, input_featurenames):\n",
        "    plt.subplots()\n",
        "    for i in range(len(labelCat)):\n",
        "        my_data = input_data[:,:,feature_index]\n",
        "        # notice the use of numpy masking to select specific classes of jets\n",
        "        my_data = my_data[np.argmax(target, axis=1) == i]\n",
        "        # then plot the right quantity for the reduced array\n",
        "        plt.hist(my_data[:,feature_index].flatten(), 50, density=True, histtype='step', fill=False, linewidth=1.5)\n",
        "    plt.yscale('log')    \n",
        "    plt.legend(labelCat, fontsize=12, frameon=False)  \n",
        "    plt.xlabel(str(input_featurenames[feature_index], \"utf-8\"), fontsize=15)\n",
        "    plt.ylabel('Prob. Density (a.u.)', fontsize=15)\n",
        "    plt.show()\n",
        "    #del fig, ax\n",
        "    #return fig, ax"
      ]
    },
    {
      "cell_type": "code",
      "execution_count": null,
      "metadata": {
        "id": "f2JG4CsaQ8nA"
      },
      "outputs": [],
      "source": [
        "# we now plot all the features\n",
        "for i in range(len(p_featurenames)-1):\n",
        "    makePlot_p(i, p_data, p_featurenames)\n",
        "    #fig.show()"
      ]
    },
    {
      "cell_type": "code",
      "execution_count": null,
      "metadata": {
        "id": "8w87Zf7wQ8nA"
      },
      "outputs": [],
      "source": []
    }
  ],
  "metadata": {
    "colab": {
      "name": "Notebook1_ExploreDataset.ipynb",
      "provenance": []
    },
    "kernelspec": {
      "display_name": "Python 3 (ipykernel)",
      "language": "python",
      "name": "python3"
    },
    "language_info": {
      "codemirror_mode": {
        "name": "ipython",
        "version": 3
      },
      "file_extension": ".py",
      "mimetype": "text/x-python",
      "name": "python",
      "nbconvert_exporter": "python",
      "pygments_lexer": "ipython3",
      "version": "3.9.12"
    }
  },
  "nbformat": 4,
  "nbformat_minor": 0
}