{
  "cells": [
    {
      "attachments": {},
      "cell_type": "markdown",
      "metadata": {
        "colab_type": "text",
        "id": "view-in-github"
      },
      "source": [
        "<a href=\"https://colab.research.google.com/github/jngadiub/ML_course_Pavia_23/blob/main/python_advance/numpy_intro.ipynb\" target=\"_parent\"><img src=\"https://colab.research.google.com/assets/colab-badge.svg\" alt=\"Open In Colab\"/></a>"
      ]
    },
    {
      "attachments": {},
      "cell_type": "markdown",
      "metadata": {
        "id": "z9YNWQz91pir"
      },
      "source": [
        "# Introduction to Numpy\n",
        "\n",
        "Based on [W3Schools tutorial](https://www.w3schools.com/python/numpy/default.asp) and [Wuhan DL Lab](https://github.com/farakiko/wuhan_DL_labs/blob/master/general/Intro_Numpy.ipynb).\n",
        "\n",
        "[**NumPy**](https://github.com/numpy/numpy) is short for \"*Numerical Python*\". It is a Python library used for working with arrays and it is used in almost all numerical computation using Python. It has functions for working in domain of linear algebra, fourier transform, and matrices. It was created in 2005 by Travis Oliphant. It is an open source project and you can use it freely.\n",
        "\n",
        "**Why Use NumPy?**\n",
        "\n",
        "In Python we have lists that serve the purpose of arrays, but they are slow to process. NumPy aims to provide an array object that is up to 50x faster than traditional Python lists. Arrays are very frequently used in data science, where speed and resources are very important.\n",
        "\n",
        "NumPy provides high-performance vector, matrix and higher-dimensional data structures for Python. It is implemented in C and Fortran so when calculations are vectorized (formulated with vectors and matrices), performance are very good.\n",
        "\n",
        "The array object in NumPy is called `ndarray`, it provides a lot of supporting functions that make working with arrays very easy.\n",
        "\n",
        "**Why is NumPy Faster Than Lists?**\n",
        "\n",
        "NumPy arrays are stored at one continuous place in memory unlike lists, so processes can access and manipulate them very efficiently. This behavior is called *locality of reference* in computer science. This is the main reason why NumPy is faster than lists. Also it is optimized to work with latest CPU architectures.\n",
        "\n",
        "**Which Language is NumPy written in?**\n",
        "\n",
        "NumPy is a Python library and is written partially in Python, but most of the parts that require fast computation are written in C or C++.\n",
        "\n",
        "**Useful Links**\n",
        "\n",
        "* http://jrjohansson.github.io/numericalpython.html\n",
        "* http://numpy.org\n",
        "* https://scipy.github.io/old-wiki/pages/Tentative_NumPy_Tutorial\n"
      ]
    },
    {
      "attachments": {},
      "cell_type": "markdown",
      "metadata": {
        "id": "nC0hcE_i4jam"
      },
      "source": [
        "### Creating Arrays\n",
        "\n",
        "We can create a NumPy `ndarray` object by using the `array()` function:"
      ]
    },
    {
      "cell_type": "code",
      "execution_count": 1,
      "metadata": {
        "id": "v40zpWNv1mZQ"
      },
      "outputs": [],
      "source": [
        "#To use NumPy we need to import the numpy module first:\n",
        "import numpy as np"
      ]
    },
    {
      "cell_type": "code",
      "execution_count": 2,
      "metadata": {
        "id": "Bx_GCO-yfLDB"
      },
      "outputs": [
        {
          "name": "stdout",
          "output_type": "stream",
          "text": [
            "[1 2 3 4 5]\n",
            "<class 'numpy.ndarray'>\n"
          ]
        }
      ],
      "source": [
        "#Create and inspect the array\n",
        "arr = np.array([1, 2, 3, 4, 5])\n",
        "\n",
        "print(arr)\n",
        "print(type(arr))"
      ]
    },
    {
      "attachments": {},
      "cell_type": "markdown",
      "metadata": {
        "id": "zBZUpv694284"
      },
      "source": [
        "There are a number of ways to initialize new NumPy arrays, for example from:\n",
        "\n",
        "* a Python list or tuples\n",
        "* using functions that are dedicated to generating numpy arrays, such as arange, linspace, etc.\n",
        "* reading data from files\n",
        "\n"
      ]
    },
    {
      "attachments": {},
      "cell_type": "markdown",
      "metadata": {
        "id": "BNaWNuyufdaJ"
      },
      "source": [
        "A dimension in arrays is one level of array depth in nested arrays, i.e. arrays that have arrays as their elements:\n",
        "\n",
        "**0-D array**"
      ]
    },
    {
      "cell_type": "code",
      "execution_count": 3,
      "metadata": {
        "id": "sdfDuwke6BDm"
      },
      "outputs": [
        {
          "name": "stdout",
          "output_type": "stream",
          "text": [
            "42\n"
          ]
        }
      ],
      "source": [
        "arr = np.array(42)\n",
        "print(arr)"
      ]
    },
    {
      "attachments": {},
      "cell_type": "markdown",
      "metadata": {
        "id": "rwdU_5M-6IHp"
      },
      "source": [
        "**1-D array**"
      ]
    },
    {
      "cell_type": "code",
      "execution_count": 4,
      "metadata": {
        "id": "2R5f1fvx6JpX"
      },
      "outputs": [
        {
          "name": "stdout",
          "output_type": "stream",
          "text": [
            "[1 2 3 4 5]\n"
          ]
        }
      ],
      "source": [
        "arr = np.array([1, 2, 3, 4, 5])\n",
        "print(arr)"
      ]
    },
    {
      "attachments": {},
      "cell_type": "markdown",
      "metadata": {
        "id": "4wFvM0S56M6O"
      },
      "source": [
        "**2-D array**"
      ]
    },
    {
      "cell_type": "code",
      "execution_count": 5,
      "metadata": {
        "id": "j4cAzkzr6Oe_"
      },
      "outputs": [
        {
          "name": "stdout",
          "output_type": "stream",
          "text": [
            "[[1 2 3]\n",
            " [4 5 6]]\n"
          ]
        }
      ],
      "source": [
        "arr = np.array([[1, 2, 3], [4, 5, 6]])\n",
        "print(arr)"
      ]
    },
    {
      "attachments": {},
      "cell_type": "markdown",
      "metadata": {
        "id": "TV4Sr4hR6QJ9"
      },
      "source": [
        "**3-D array**"
      ]
    },
    {
      "cell_type": "code",
      "execution_count": 6,
      "metadata": {
        "id": "pi3u0BFw6SQ3"
      },
      "outputs": [
        {
          "name": "stdout",
          "output_type": "stream",
          "text": [
            "[[[1 2 3]\n",
            "  [4 5 6]]\n",
            "\n",
            " [[1 2 3]\n",
            "  [4 5 6]]]\n"
          ]
        }
      ],
      "source": [
        "arr = np.array([[[1, 2, 3], [4, 5, 6]], [[1, 2, 3], [4, 5, 6]]])\n",
        "print(arr)"
      ]
    },
    {
      "attachments": {},
      "cell_type": "markdown",
      "metadata": {
        "id": "U1oPVbk85li7"
      },
      "source": [
        "NumPy arrays provides the `ndim` attribute that returns an integer that tells us how many dimensions the array have:"
      ]
    },
    {
      "cell_type": "code",
      "execution_count": 7,
      "metadata": {
        "id": "PPGYNFcR6XaP"
      },
      "outputs": [
        {
          "name": "stdout",
          "output_type": "stream",
          "text": [
            "0\n",
            "1\n",
            "2\n",
            "3\n"
          ]
        }
      ],
      "source": [
        "a = np.array(42)\n",
        "b = np.array([1, 2, 3, 4, 5])\n",
        "c = np.array([[1, 2, 3], [4, 5, 6]])\n",
        "d = np.array([[[1, 2, 3], [4, 5, 6]], [[1, 2, 3], [4, 5, 6]]])\n",
        "\n",
        "print(a.ndim)\n",
        "print(b.ndim)\n",
        "print(c.ndim)\n",
        "print(d.ndim)"
      ]
    },
    {
      "attachments": {},
      "cell_type": "markdown",
      "metadata": {
        "id": "L-Q3pTfkfr5j"
      },
      "source": [
        "So far the `numpy.ndarray` looks awefully much like a Python list (or nested list). Why not simply use Python lists for computations instead of creating a new array type?\n",
        "\n",
        "There are several reasons:\n",
        "\n",
        "* Python lists are very general. They can contain any kind of object. They are dynamically typed. They do not support mathematical functions such as matrix and dot multiplications, etc. Implementating such functions for Python lists would not be very efficient because of the dynamic typing.\n",
        "* Numpy arrays are statically typed and homogeneous. The type of the elements is determined when array is created.\n",
        "* Numpy arrays are memory efficient.\n",
        "* Because of the static typing, fast implementation of mathematical functions such as multiplication and addition of numpy arrays can be implemented in a compiled language (C and Fortran is used).\n"
      ]
    },
    {
      "attachments": {},
      "cell_type": "markdown",
      "metadata": {
        "id": "sfU7FzxqgOmO"
      },
      "source": [
        "### Fast Array Generation\n",
        "\n",
        "For larger arrays it is inpractical to initialize the data manually, using explicit python lists. Instead we can use one of the many functions in numpy that generates arrays of different forms. Some of the more common are:\n",
        "\n",
        "**arange**\n"
      ]
    },
    {
      "cell_type": "code",
      "execution_count": 8,
      "metadata": {
        "id": "vqj664yagXEC"
      },
      "outputs": [
        {
          "name": "stdout",
          "output_type": "stream",
          "text": [
            "[0 1 2 3 4 5 6 7 8 9]\n"
          ]
        }
      ],
      "source": [
        "arr = np.arange(0, 10, 1) # arguments: start, stop, step\n",
        "print(arr)"
      ]
    },
    {
      "cell_type": "code",
      "execution_count": 9,
      "metadata": {
        "id": "M6e8R1RHg3_S"
      },
      "outputs": [
        {
          "name": "stdout",
          "output_type": "stream",
          "text": [
            "[-1.00000000e+00 -9.00000000e-01 -8.00000000e-01 -7.00000000e-01\n",
            " -6.00000000e-01 -5.00000000e-01 -4.00000000e-01 -3.00000000e-01\n",
            " -2.00000000e-01 -1.00000000e-01 -2.22044605e-16  1.00000000e-01\n",
            "  2.00000000e-01  3.00000000e-01  4.00000000e-01  5.00000000e-01\n",
            "  6.00000000e-01  7.00000000e-01  8.00000000e-01  9.00000000e-01]\n"
          ]
        }
      ],
      "source": [
        "arr = np.arange(-1, 1, 0.1)\n",
        "print(arr)"
      ]
    },
    {
      "attachments": {},
      "cell_type": "markdown",
      "metadata": {
        "id": "EhAsL5x_hEL0"
      },
      "source": [
        "**linspace and logspace**"
      ]
    },
    {
      "cell_type": "code",
      "execution_count": 10,
      "metadata": {
        "id": "oDcsCSp3hFyB"
      },
      "outputs": [
        {
          "name": "stdout",
          "output_type": "stream",
          "text": [
            "[ 0.          0.41666667  0.83333333  1.25        1.66666667  2.08333333\n",
            "  2.5         2.91666667  3.33333333  3.75        4.16666667  4.58333333\n",
            "  5.          5.41666667  5.83333333  6.25        6.66666667  7.08333333\n",
            "  7.5         7.91666667  8.33333333  8.75        9.16666667  9.58333333\n",
            " 10.        ]\n"
          ]
        }
      ],
      "source": [
        "arr = np.linspace(0, 10, 25)\n",
        "print(arr)"
      ]
    },
    {
      "cell_type": "code",
      "execution_count": 11,
      "metadata": {
        "id": "twK8ayCihXt0"
      },
      "outputs": [
        {
          "name": "stdout",
          "output_type": "stream",
          "text": [
            "[1.00000000e+00 3.03773178e+00 9.22781435e+00 2.80316249e+01\n",
            " 8.51525577e+01 2.58670631e+02 7.85771994e+02 2.38696456e+03\n",
            " 7.25095809e+03 2.20264658e+04]\n"
          ]
        }
      ],
      "source": [
        "arr = np.logspace(0, 10, 10, base=np.e)\n",
        "print(arr)"
      ]
    },
    {
      "attachments": {},
      "cell_type": "markdown",
      "metadata": {
        "id": "i3ptx8y5hmYU"
      },
      "source": [
        "**mgrid**"
      ]
    },
    {
      "cell_type": "code",
      "execution_count": 12,
      "metadata": {
        "id": "RMELNlbWhn1p"
      },
      "outputs": [],
      "source": [
        "x, y = np.mgrid[0:5, 0:5]"
      ]
    },
    {
      "cell_type": "code",
      "execution_count": 13,
      "metadata": {
        "id": "SbaDUlR3hq38"
      },
      "outputs": [
        {
          "name": "stdout",
          "output_type": "stream",
          "text": [
            "[[0 0 0 0 0]\n",
            " [1 1 1 1 1]\n",
            " [2 2 2 2 2]\n",
            " [3 3 3 3 3]\n",
            " [4 4 4 4 4]]\n"
          ]
        }
      ],
      "source": [
        "print(x)"
      ]
    },
    {
      "cell_type": "code",
      "execution_count": 14,
      "metadata": {
        "id": "fCaw04JzhrdA"
      },
      "outputs": [
        {
          "name": "stdout",
          "output_type": "stream",
          "text": [
            "[[0 1 2 3 4]\n",
            " [0 1 2 3 4]\n",
            " [0 1 2 3 4]\n",
            " [0 1 2 3 4]\n",
            " [0 1 2 3 4]]\n"
          ]
        }
      ],
      "source": [
        "print(y)"
      ]
    },
    {
      "attachments": {},
      "cell_type": "markdown",
      "metadata": {
        "id": "8YCQszkch5zB"
      },
      "source": [
        "**random data**"
      ]
    },
    {
      "cell_type": "code",
      "execution_count": 15,
      "metadata": {
        "id": "sYcK8wNCh68n"
      },
      "outputs": [
        {
          "name": "stdout",
          "output_type": "stream",
          "text": [
            "[[0.50262705 0.39491852 0.46821491 0.16807854 0.90628389]\n",
            " [0.64335462 0.45660272 0.55706581 0.68915681 0.19930885]\n",
            " [0.26021072 0.80934872 0.16918109 0.9624085  0.70456623]\n",
            " [0.30366077 0.81836853 0.53481993 0.322703   0.81247508]\n",
            " [0.34286415 0.82165287 0.0670651  0.84252378 0.26926061]]\n"
          ]
        }
      ],
      "source": [
        "# uniform random numbers in [0,1]\n",
        "arr = np.random.rand(5,5)\n",
        "print(arr)"
      ]
    },
    {
      "cell_type": "code",
      "execution_count": 16,
      "metadata": {
        "id": "18k094seiQmJ"
      },
      "outputs": [
        {
          "name": "stdout",
          "output_type": "stream",
          "text": [
            "[[-0.25580473  1.03886808 -1.4030536   0.44570764 -1.36959967]\n",
            " [-0.08328944 -1.35117971 -2.01630714 -2.05559713 -0.1259068 ]\n",
            " [ 1.15088921  0.14074604  0.04457984  0.01877679 -0.62683257]\n",
            " [ 1.18318947 -0.45498179  0.27117358  0.46894791  1.80025694]\n",
            " [ 1.62198569 -0.76711864 -1.13866407 -0.68431074 -2.09920541]]\n"
          ]
        }
      ],
      "source": [
        "# standard normal distributed random numbers\n",
        "arr = np.random.randn(5,5)\n",
        "print(arr)"
      ]
    },
    {
      "attachments": {},
      "cell_type": "markdown",
      "metadata": {
        "id": "tgj0f-N2iWhS"
      },
      "source": [
        "**diag**"
      ]
    },
    {
      "cell_type": "code",
      "execution_count": 17,
      "metadata": {
        "id": "3xJnMm5XiXlb"
      },
      "outputs": [
        {
          "name": "stdout",
          "output_type": "stream",
          "text": [
            "[[1 0 0]\n",
            " [0 2 0]\n",
            " [0 0 3]]\n"
          ]
        }
      ],
      "source": [
        "# a diagonal matrix\n",
        "arr = np.diag([1,2,3])\n",
        "print(arr)"
      ]
    },
    {
      "attachments": {},
      "cell_type": "markdown",
      "metadata": {
        "id": "kL1oVhtDicb7"
      },
      "source": [
        "**zeros and ones**"
      ]
    },
    {
      "cell_type": "code",
      "execution_count": 18,
      "metadata": {
        "id": "_CZqAIYqie4T"
      },
      "outputs": [
        {
          "name": "stdout",
          "output_type": "stream",
          "text": [
            "[[0. 0. 0.]\n",
            " [0. 0. 0.]\n",
            " [0. 0. 0.]]\n"
          ]
        }
      ],
      "source": [
        "arr = np.zeros((3,3))\n",
        "print(arr)"
      ]
    },
    {
      "cell_type": "code",
      "execution_count": 19,
      "metadata": {
        "id": "mRxYTFtGii0d"
      },
      "outputs": [
        {
          "name": "stdout",
          "output_type": "stream",
          "text": [
            "[[1. 1. 1.]\n",
            " [1. 1. 1.]\n",
            " [1. 1. 1.]]\n"
          ]
        }
      ],
      "source": [
        "arr = np.ones((3,3))\n",
        "print(arr)"
      ]
    },
    {
      "attachments": {},
      "cell_type": "markdown",
      "metadata": {
        "id": "gB54NXq-7IID"
      },
      "source": [
        "### Access Array Elements\n",
        "\n",
        "Array indexing is the same as accessing elements in python arrays:"
      ]
    },
    {
      "cell_type": "code",
      "execution_count": 20,
      "metadata": {
        "id": "3Td7vDFE7as1"
      },
      "outputs": [
        {
          "name": "stdout",
          "output_type": "stream",
          "text": [
            "1\n",
            "2\n",
            "7\n"
          ]
        }
      ],
      "source": [
        "arr = np.array([1, 2, 3, 4])\n",
        "\n",
        "print(arr[0]) \n",
        "print(arr[1])\n",
        "print(arr[2] + arr[3])  "
      ]
    },
    {
      "attachments": {},
      "cell_type": "markdown",
      "metadata": {
        "id": "u0wX-jT_7AFj"
      },
      "source": [
        "To access elements from 2-D arrays we can use comma separated integers representing the dimension and the index of the element.\n",
        "\n",
        "Think of 2-D arrays like a table with rows and columns, where the dimension represents the row and the index represents the column:"
      ]
    },
    {
      "cell_type": "code",
      "execution_count": 21,
      "metadata": {
        "id": "YD_8xR6t73xv"
      },
      "outputs": [
        {
          "name": "stdout",
          "output_type": "stream",
          "text": [
            "[[ 1  2  3  4  5]\n",
            " [ 6  7  8  9 10]]\n",
            "2nd element on 1st row:  2\n",
            "5th element on 2nd row:  10\n"
          ]
        }
      ],
      "source": [
        "arr = np.array([[1,2,3,4,5], [6,7,8,9,10]])\n",
        "print(arr)\n",
        "\n",
        "print('2nd element on 1st row: ', arr[0, 1]) \n",
        "print('5th element on 2nd row: ', arr[1, 4])"
      ]
    },
    {
      "attachments": {},
      "cell_type": "markdown",
      "metadata": {
        "id": "wFFq13U18A3S"
      },
      "source": [
        "To access elements from 3-D arrays we can use comma separated integers representing the dimensions and the index of the element:"
      ]
    },
    {
      "cell_type": "code",
      "execution_count": 22,
      "metadata": {
        "id": "UC7ktd-R8HBB"
      },
      "outputs": [
        {
          "name": "stdout",
          "output_type": "stream",
          "text": [
            "6\n"
          ]
        }
      ],
      "source": [
        "arr = np.array([[[1, 2, 3], [4, 5, 6]], [[7, 8, 9], [10, 11, 12]]])\n",
        "print(arr[0, 1, 2]) "
      ]
    },
    {
      "attachments": {},
      "cell_type": "markdown",
      "metadata": {
        "id": "UMmlyCjS8Kl5"
      },
      "source": [
        "In the example above, the first number represents the first dimension, which contains two arrays:\n",
        "\n",
        "`[[1, 2, 3], [4, 5, 6]]` and `[[7, 8, 9], [10, 11, 12]]`\n",
        "\n",
        "Since we selected `0`, we are left with the first array: `[[1, 2, 3], [4, 5, 6]]`.\n",
        "\n",
        "The second number represents the second dimension, which also contains two arrays:\n",
        "\n",
        "`[1, 2, 3]` and `[4, 5, 6]`\n",
        "\n",
        "Since we selected `1`, we are left with the second array: `[4, 5, 6]`.\n",
        "\n",
        "The third number represents the third dimension, which contains three values: `4`, `5`, and `6`. Since we selected `2`, we end up with the third value: `6`."
      ]
    },
    {
      "attachments": {},
      "cell_type": "markdown",
      "metadata": {
        "id": "oNcRSWaABHW9"
      },
      "source": [
        "### Array Sclicing\n",
        "\n",
        "Slicing for NumPy arrays is similar to python arrays (see notebook [`python_intro_part1.ipynb`](https://github.com/jngadiub/ML_course_Pavia_23/blob/main/python_basics/python_intro_part1.ipynb)). Let's see here a few more features. "
      ]
    },
    {
      "attachments": {},
      "cell_type": "markdown",
      "metadata": {
        "id": "4lAEXnTnC6HW"
      },
      "source": [
        "The `step` value can be used to determine the step of the slicing. The example below returns every other element from index `1` to index `5`:"
      ]
    },
    {
      "cell_type": "code",
      "execution_count": 29,
      "metadata": {
        "id": "a2W2bPmgCcUR"
      },
      "outputs": [
        {
          "name": "stdout",
          "output_type": "stream",
          "text": [
            "[2 4]\n"
          ]
        }
      ],
      "source": [
        "arr = np.array([1, 2, 3, 4, 5, 6, 7])\n",
        "print(arr[1:5:2]) "
      ]
    },
    {
      "attachments": {},
      "cell_type": "markdown",
      "metadata": {
        "id": "aeu4oobRCvs8"
      },
      "source": [
        "*Exercise 1: print every other element of the entire array.*\n",
        "\n",
        "*Exercise 2: create a 2D array and from the second element of the first dimension, slice elements from index 1 to index 4.*\n",
        "\n",
        "*Exercise 3: create a 2D array and from both elements of the first dimension, return the element with index 2.*\n",
        "\n",
        "*Exercise 4: create a 2D array and from the both elements of the first dimension, slice elements from index 1 to index 4.*"
      ]
    },
    {
      "cell_type": "code",
      "execution_count": 47,
      "metadata": {},
      "outputs": [
        {
          "name": "stdout",
          "output_type": "stream",
          "text": [
            "[[8 8 8 2 4]\n",
            " [4 3 6 9 0]\n",
            " [2 5 2 5 4]\n",
            " [4 5 9 5 0]\n",
            " [5 2 2 2 8]]\n"
          ]
        }
      ],
      "source": [
        "arr = np.array([1, 2, 3, 4, 5, 6, 7])\n",
        "two_d_array = np.random.randint(0,10,(5,5))\n",
        "\n",
        "print(two_d_array)"
      ]
    },
    {
      "cell_type": "code",
      "execution_count": 49,
      "metadata": {},
      "outputs": [
        {
          "name": "stdout",
          "output_type": "stream",
          "text": [
            "[1 3 5 7]\n",
            "[8 8 2]\n",
            "8\n",
            "[8 8 2]\n"
          ]
        }
      ],
      "source": [
        "ex_01 = arr[::2]\n",
        "print(ex_01)\n",
        "\n",
        "ex_02 = two_d_array[0][1:4]\n",
        "print(ex_02)\n",
        "\n",
        "ex_03 = two_d_array[0][2]\n",
        "print(ex_03)\n",
        "\n",
        "ex_04 = two_d_array[0][1:4]\n",
        "print(ex_04)"
      ]
    },
    {
      "attachments": {},
      "cell_type": "markdown",
      "metadata": {
        "id": "0JTm2JP3FEll"
      },
      "source": [
        "### Data Types\n",
        "\n",
        "Using the `dtype` (data type) property of an `ndarray`, we can see what type the data of an array has:\n"
      ]
    },
    {
      "cell_type": "code",
      "execution_count": 24,
      "metadata": {
        "id": "5zCaDYW_D0p8"
      },
      "outputs": [
        {
          "name": "stdout",
          "output_type": "stream",
          "text": [
            "int32\n"
          ]
        }
      ],
      "source": [
        "arr = np.array([1, 2, 3, 4])\n",
        "print(arr.dtype) "
      ]
    },
    {
      "attachments": {},
      "cell_type": "markdown",
      "metadata": {
        "id": "xsFWZPl1KbPK"
      },
      "source": [
        "We get an error if we try to assign a value of the wrong type to an element in a numpy array:\n"
      ]
    },
    {
      "cell_type": "code",
      "execution_count": 25,
      "metadata": {
        "id": "Nb2najF0KdIl"
      },
      "outputs": [
        {
          "ename": "ValueError",
          "evalue": "invalid literal for int() with base 10: 'hello'",
          "output_type": "error",
          "traceback": [
            "\u001b[1;31m---------------------------------------------------------------------------\u001b[0m",
            "\u001b[1;31mValueError\u001b[0m                                Traceback (most recent call last)",
            "Cell \u001b[1;32mIn[25], line 1\u001b[0m\n\u001b[1;32m----> 1\u001b[0m arr[\u001b[39m0\u001b[39;49m] \u001b[39m=\u001b[39m \u001b[39m\"\u001b[39m\u001b[39mhello\u001b[39m\u001b[39m\"\u001b[39m   \u001b[39m# error on purpose\u001b[39;00m\n",
            "\u001b[1;31mValueError\u001b[0m: invalid literal for int() with base 10: 'hello'"
          ]
        }
      ],
      "source": [
        "arr[0] = \"hello\"   # error on purpose\n"
      ]
    },
    {
      "attachments": {},
      "cell_type": "markdown",
      "metadata": {
        "id": "6Y36CmgDKoSz"
      },
      "source": [
        "If we want, we can explicitly define the type of the array data when we create it, using the `dtype` keyword argument:\n",
        "\n",
        "**Example 1**\n"
      ]
    },
    {
      "cell_type": "code",
      "execution_count": null,
      "metadata": {
        "id": "2-0mFD3eFMUl"
      },
      "outputs": [],
      "source": [
        "arr = np.array([1, 2, 3, 4], dtype=complex)\n",
        "print(arr)\n",
        "print(arr.dtype) "
      ]
    },
    {
      "attachments": {},
      "cell_type": "markdown",
      "metadata": {
        "id": "6ZO38RfKLNtc"
      },
      "source": [
        "**Example 2**"
      ]
    },
    {
      "cell_type": "code",
      "execution_count": null,
      "metadata": {
        "id": "O0eHLd8oLPB7"
      },
      "outputs": [],
      "source": [
        "arr = np.array([0, 2, 3, 4], dtype=bool)\n",
        "print(arr)\n",
        "print(arr.dtype)"
      ]
    },
    {
      "attachments": {},
      "cell_type": "markdown",
      "metadata": {
        "id": "Puo8ONS7K7Mr"
      },
      "source": [
        "Common type that can be used with dtype are: `int`, `float`, `complex`, `bool`, `object`, etc.\n",
        "\n",
        "We can also explicitly define the bit size of the data types, for example: `int64`, `int16`, `float32`, `complex128`.\n"
      ]
    },
    {
      "cell_type": "code",
      "execution_count": null,
      "metadata": {
        "id": "pc28K74rLgyd"
      },
      "outputs": [],
      "source": [
        "arr = np.array([0, 2, 3, 4], dtype='float32')\n",
        "print(arr)\n",
        "print(arr.dtype)"
      ]
    },
    {
      "attachments": {},
      "cell_type": "markdown",
      "metadata": {
        "id": "4fnbOmEqC3wk"
      },
      "source": [
        "A way to change the data type of an existing array, is to make a copy of the array with the `astype()` method. This function creates a copy of the array, and allows you to specify the data type as a parameter:\n",
        "\n"
      ]
    },
    {
      "cell_type": "code",
      "execution_count": null,
      "metadata": {
        "id": "214KpnW6L8Yf"
      },
      "outputs": [],
      "source": [
        "arr = np.array([1.1, 2.1, 3.1])\n",
        "\n",
        "newarr = arr.astype('int32')\n",
        "\n",
        "print(newarr)\n",
        "print(newarr.dtype)"
      ]
    },
    {
      "attachments": {},
      "cell_type": "markdown",
      "metadata": {
        "id": "BvNM6h2RPtCc"
      },
      "source": [
        "### Array Copy\n",
        "\n",
        "To achieve high performance, assignments in Python usually do not copy the underlaying objects. This is important for example when objects are passed between functions, to avoid an excessive amount of memory copying when it is not necessary (techincal term: *pass by reference*).\n"
      ]
    },
    {
      "cell_type": "code",
      "execution_count": null,
      "metadata": {
        "id": "5u8aI5OjP33s"
      },
      "outputs": [],
      "source": [
        "A = np.array([[1, 2], [3, 4]])\n",
        "print(A)"
      ]
    },
    {
      "cell_type": "code",
      "execution_count": null,
      "metadata": {
        "id": "1A5QO4xmQVtL"
      },
      "outputs": [],
      "source": [
        "# now B is referring to the same array data as A \n",
        "B = A "
      ]
    },
    {
      "cell_type": "code",
      "execution_count": null,
      "metadata": {
        "id": "arSMb9SCQc_B"
      },
      "outputs": [],
      "source": [
        "# changing B affects A\n",
        "B[0,0] = 10\n",
        "print(B)"
      ]
    },
    {
      "cell_type": "code",
      "execution_count": null,
      "metadata": {
        "id": "VhQszrd5QjIn"
      },
      "outputs": [],
      "source": [
        "print(A)"
      ]
    },
    {
      "attachments": {},
      "cell_type": "markdown",
      "metadata": {
        "id": "WjDgbc-5QrEb"
      },
      "source": [
        "If we want to avoid this behavior, so that when we get a new completely independent object `B` copied from `A`, then we need to do a so-called \"*deep copy*\" using the function `copy`:"
      ]
    },
    {
      "cell_type": "code",
      "execution_count": null,
      "metadata": {
        "id": "B3Crh8QSQyl7"
      },
      "outputs": [],
      "source": [
        "B = np.copy(A)\n",
        "# now, if we modify B, A is not affected\n",
        "B[0,0] = -5\n",
        "print(B)"
      ]
    },
    {
      "cell_type": "code",
      "execution_count": null,
      "metadata": {
        "id": "5Dbmn2zjRG4m"
      },
      "outputs": [],
      "source": [
        "print(A)"
      ]
    },
    {
      "attachments": {},
      "cell_type": "markdown",
      "metadata": {
        "id": "R0DupXJxMScb"
      },
      "source": [
        "### Array Shape\n",
        "\n",
        "The shape of an array is the number of elements in each dimension. NumPy arrays have an attribute called `shape` that returns a tuple with each index having the number of corresponding elements:"
      ]
    },
    {
      "cell_type": "code",
      "execution_count": null,
      "metadata": {
        "id": "_1TMUUTnMdVX"
      },
      "outputs": [],
      "source": [
        "arr = np.array([[1, 2, 3, 4], [5, 6, 7, 8]])\n",
        "print(arr.shape)"
      ]
    },
    {
      "attachments": {},
      "cell_type": "markdown",
      "metadata": {
        "id": "W9TDyQUbMqQ7"
      },
      "source": [
        "The example above returns `(2, 4)`, which means that the array has 2 dimensions, where the first dimension has 2 elements and the second has 4.\n",
        "\n",
        "*Exercise: create an array with 5 dimensions using `ndmin` and a vector with four elements and verify that last dimension has value 4.*"
      ]
    },
    {
      "attachments": {},
      "cell_type": "markdown",
      "metadata": {
        "id": "xkJaE_jFMqOH"
      },
      "source": [
        "Reshaping means changing the shape of an array. By reshaping we can add or remove dimensions or change number of elements in each dimension.\n",
        "\n",
        "**Reshape From 1-D to 2-D**"
      ]
    },
    {
      "cell_type": "code",
      "execution_count": 59,
      "metadata": {},
      "outputs": [
        {
          "name": "stdout",
          "output_type": "stream",
          "text": [
            "0\n",
            "1\n",
            "2\n",
            "3\n",
            "4\n"
          ]
        }
      ],
      "source": [
        "#Exercise\n",
        "\n",
        "ex_array = np.random.randint(0,10,(5,5,5,5,5))\n",
        "ex_vec = np.random.randint(0,10,4)\n",
        "ex_vec\n",
        "\n",
        "for i in range(ex_array.ndim):\n",
        "    print(i)"
      ]
    },
    {
      "cell_type": "code",
      "execution_count": null,
      "metadata": {
        "id": "OHr9LrziNQaT"
      },
      "outputs": [],
      "source": [
        "arr = np.array([1, 2, 3, 4, 5, 6, 7, 8, 9, 10, 11, 12])\n",
        "print(\"Before reshaping:\",arr.shape)\n",
        "\n",
        "arr = arr.reshape(4, 3)\n",
        "print(\"After reshaping\",arr.shape)\n",
        "print(arr)"
      ]
    },
    {
      "attachments": {},
      "cell_type": "markdown",
      "metadata": {
        "id": "H35R2HZxNhpZ"
      },
      "source": [
        "**Reshape From 1-D to 3-D**"
      ]
    },
    {
      "cell_type": "code",
      "execution_count": null,
      "metadata": {
        "id": "4lsts4YRNisL"
      },
      "outputs": [],
      "source": [
        "arr = np.array([1, 2, 3, 4, 5, 6, 7, 8, 9, 10, 11, 12])\n",
        "print(\"Before reshaping:\",arr.shape)\n",
        "\n",
        "arr = arr.reshape(2, 3, 2)\n",
        "print(\"After reshaping\",arr.shape)\n",
        "print(arr)"
      ]
    },
    {
      "attachments": {},
      "cell_type": "markdown",
      "metadata": {
        "id": "-ccho4psOCya"
      },
      "source": [
        "**Can We Reshape Into any Shape?**\n",
        "Yes, as long as the elements required for reshaping are equal in both shapes.\n",
        "\n",
        "We can reshape an 8 elements 1D array into a matrix of 2 rows and 4 columns but we cannot reshape it into a matrix of 3 rows and 3 columns as that would require 3x3 = 9 elements, while we have only 8 in the original 1D array."
      ]
    },
    {
      "cell_type": "code",
      "execution_count": null,
      "metadata": {
        "id": "MhBJDdL3OWI-"
      },
      "outputs": [],
      "source": [
        "arr = np.array([1, 2, 3, 4, 5, 6, 7, 8])\n",
        "arr = arr.reshape(3, 3) #error on purpose"
      ]
    },
    {
      "attachments": {},
      "cell_type": "markdown",
      "metadata": {
        "id": "mTD06jZqOnSL"
      },
      "source": [
        "You are allowed to have one \"unknown\" dimension. Meaning that you do not have to specify an exact number for one of the dimensions in the reshape method. Pass `-1` as the value, and NumPy will calculate this number for you:"
      ]
    },
    {
      "cell_type": "code",
      "execution_count": null,
      "metadata": {
        "id": "E1MUQrwIOqgr"
      },
      "outputs": [],
      "source": [
        "arr = np.array([1, 2, 3, 4, 5, 6, 7, 8])\n",
        "print(\"Before reshaping:\",arr.shape)\n",
        "\n",
        "arr = arr.reshape(2, 2, -1)\n",
        "print(\"After reshaping\",arr.shape)\n",
        "print(arr)"
      ]
    },
    {
      "attachments": {},
      "cell_type": "markdown",
      "metadata": {
        "id": "Qi0ShDxlO3t7"
      },
      "source": [
        "Flattening array means converting a multidimensional array into a 1D array. We can use the `flatten` method to do this:"
      ]
    },
    {
      "cell_type": "code",
      "execution_count": null,
      "metadata": {
        "id": "xlymOSJKPXlu"
      },
      "outputs": [],
      "source": [
        "arr = np.array([[1, 2], [3, 4]])\n",
        "print(\"Before flattening:\",arr.shape)\n",
        "\n",
        "arr = arr.flatten()\n",
        "print(\"After flattening:\",arr.shape)"
      ]
    },
    {
      "attachments": {},
      "cell_type": "markdown",
      "metadata": {
        "id": "KPJx7IpzRT1R"
      },
      "source": [
        "**Note**: both the `reshape` and `flatten` functions create a deep copy of the data.\n"
      ]
    },
    {
      "attachments": {},
      "cell_type": "markdown",
      "metadata": {
        "id": "pANzkXVIUAOH"
      },
      "source": [
        "### Iterating Arrays\n",
        "\n",
        "Iterating means going through elements one by one. As we deal with multi-dimensional arrays in numpy, we can do this using basic `for` loop of python.\n",
        "\n",
        "If we iterate on a 1-D array it will go through each element one by one:\n",
        "\n"
      ]
    },
    {
      "cell_type": "code",
      "execution_count": null,
      "metadata": {
        "id": "Pfqqol4rUJtZ"
      },
      "outputs": [],
      "source": [
        "arr = np.array([1, 2, 3])\n",
        "for x in arr: print(x) "
      ]
    },
    {
      "attachments": {},
      "cell_type": "markdown",
      "metadata": {
        "id": "kLIPJSrCUNog"
      },
      "source": [
        "In a 2-D array it will go through all the rows:"
      ]
    },
    {
      "cell_type": "code",
      "execution_count": null,
      "metadata": {
        "id": "D_PaRpbmUQYC"
      },
      "outputs": [],
      "source": [
        "arr = np.array([[1, 2, 3], [4, 5, 6]])\n",
        "for x in arr: print(x) "
      ]
    },
    {
      "attachments": {},
      "cell_type": "markdown",
      "metadata": {
        "id": "uXuqW86EUmAc"
      },
      "source": [
        "In a 3-D array it will go through all the 2-D arrays:"
      ]
    },
    {
      "cell_type": "code",
      "execution_count": null,
      "metadata": {
        "id": "JRjlPPY0UnEF"
      },
      "outputs": [],
      "source": [
        "arr = np.array([[[1, 2, 3], [4, 5, 6]], [[7, 8, 9], [10, 11, 12]]])\n",
        "for x in arr: print(x) "
      ]
    },
    {
      "attachments": {},
      "cell_type": "markdown",
      "metadata": {
        "id": "JiDW9c-mUT60"
      },
      "source": [
        "To return the actual elements, the scalars, we have to iterate the arrays in each dimension:"
      ]
    },
    {
      "cell_type": "code",
      "execution_count": null,
      "metadata": {
        "id": "CA0ipCIpUfJI"
      },
      "outputs": [],
      "source": [
        "arr = np.array([[[1, 2, 3], [4, 5, 6]], [[7, 8, 9], [10, 11, 12]]])\n",
        "for x in arr:\n",
        "  for y in x:\n",
        "    for z in y: print(z) "
      ]
    },
    {
      "attachments": {},
      "cell_type": "markdown",
      "metadata": {
        "id": "MbRvOws5UzsP"
      },
      "source": [
        "In basic for loops, iterating through each scalar of an array we need to use n for loops which can be difficult to write for arrays with very high dimensionality. The function `nditer()` is a helping function that can be used from very basic to very advanced iterations. It solves some basic issues which we face in iteration, lets go through it with examples. "
      ]
    },
    {
      "cell_type": "code",
      "execution_count": null,
      "metadata": {
        "id": "WI7D7GqMU8z0"
      },
      "outputs": [],
      "source": [
        "arr = np.array([[[1, 2], [3, 4]], [[5, 6], [7, 8]]])\n",
        "for x in np.nditer(arr): print(x) "
      ]
    },
    {
      "attachments": {},
      "cell_type": "markdown",
      "metadata": {
        "id": "X5l-ce6_VE7y"
      },
      "source": [
        "We can also iterate using a fix step size:"
      ]
    },
    {
      "cell_type": "code",
      "execution_count": null,
      "metadata": {
        "id": "1MQslUdCVHQw"
      },
      "outputs": [],
      "source": [
        "#Iterate through every scalar element of the 2D array skipping 1 element:\n",
        "arr = np.array([[1, 2, 3, 4], [5, 6, 7, 8]])\n",
        "for x in np.nditer(arr[:, ::2]): print(x) "
      ]
    },
    {
      "attachments": {},
      "cell_type": "markdown",
      "metadata": {
        "id": "cD6mLC6JVnzO"
      },
      "source": [
        "Sometimes we require corresponding index of the element while iterating, the `ndenumerate()` method can be used for those usecases:"
      ]
    },
    {
      "cell_type": "code",
      "execution_count": null,
      "metadata": {
        "id": "7qJhCFCjVqRA"
      },
      "outputs": [],
      "source": [
        "#1D array\n",
        "arr = np.array([1, 2, 3])\n",
        "for idx, x in np.ndenumerate(arr): print(idx, x)"
      ]
    },
    {
      "cell_type": "code",
      "execution_count": null,
      "metadata": {
        "id": "b2UsIVygVweH"
      },
      "outputs": [],
      "source": [
        "#2D array\n",
        "arr = np.array([[1, 2, 3, 4], [5, 6, 7, 8]])\n",
        "for idx, x in np.ndenumerate(arr): print(idx, x)"
      ]
    },
    {
      "attachments": {},
      "cell_type": "markdown",
      "metadata": {
        "id": "DO4LiiYGV2lj"
      },
      "source": [
        "### Joining Arrays\n",
        "\n",
        "Joining means putting contents of two or more arrays in a single array. In NumPy we join arrays by axes. We pass a sequence of arrays that we want to join to the `concatenate()` function, along with the axis. If axis is not explicitly passed, it is taken as `0`."
      ]
    },
    {
      "cell_type": "code",
      "execution_count": null,
      "metadata": {
        "id": "SpWZLpqbWBXL"
      },
      "outputs": [],
      "source": [
        "#Example 1\n",
        "arr1 = np.array([1, 2, 3])\n",
        "print(\"arr1 shape:\",arr1.shape)\n",
        "arr2 = np.array([4, 5, 6])\n",
        "print(\"arr2 shape:\",arr2.shape)\n",
        "\n",
        "arr = np.concatenate((arr1, arr2))\n",
        "print(\"arr shape:\",arr.shape)\n",
        "print(arr) "
      ]
    },
    {
      "cell_type": "code",
      "execution_count": null,
      "metadata": {
        "id": "a00U_X57WMp6"
      },
      "outputs": [],
      "source": [
        "#Example 2\n",
        "arr1 = np.array([[1, 2], [3, 4]])\n",
        "print(\"arr1 shape:\",arr1.shape)\n",
        "print(arr1)\n",
        "arr2 = np.array([[5, 6], [7, 8]])\n",
        "print(\"arr2 shape:\",arr2.shape)\n",
        "print(arr2)\n",
        "\n",
        "arr = np.concatenate((arr1, arr2), axis=1)\n",
        "print(\"arr shape:\",arr.shape)\n",
        "print(arr)"
      ]
    },
    {
      "cell_type": "code",
      "execution_count": null,
      "metadata": {
        "id": "GRd6jbg4WSzo"
      },
      "outputs": [],
      "source": [
        "#Example 3\n",
        "arr1 = np.array([[1, 2], [3, 4]])\n",
        "print(\"arr1 shape:\",arr1.shape)\n",
        "print(arr1)\n",
        "arr2 = np.array([[5, 6], [7, 8]])\n",
        "print(\"arr2 shape:\",arr2.shape)\n",
        "print(arr2)\n",
        "\n",
        "arr = np.concatenate((arr1, arr2), axis=0)\n",
        "print(\"arr shape:\",arr.shape)\n",
        "print(arr)"
      ]
    },
    {
      "attachments": {},
      "cell_type": "markdown",
      "metadata": {
        "id": "M-j3scJAXYYE"
      },
      "source": [
        "*Exercise: concatenate two 3D arrays on the the third dimension and return the final shape.*"
      ]
    },
    {
      "cell_type": "code",
      "execution_count": 65,
      "metadata": {},
      "outputs": [
        {
          "data": {
            "text/plain": [
              "(3, 3, 6)"
            ]
          },
          "execution_count": 65,
          "metadata": {},
          "output_type": "execute_result"
        }
      ],
      "source": [
        "threed_arr_1 = np.random.randint(0,10,(3,3,3))\n",
        "threed_arr_2 = np.random.randint(0,10,(3,3,3))\n",
        "\n",
        "np.concatenate((threed_arr_1,threed_arr_1), axis=2).shape\n"
      ]
    },
    {
      "attachments": {},
      "cell_type": "markdown",
      "metadata": {
        "id": "cTN6LceoXLCe"
      },
      "source": [
        "Stacking is same as concatenation, the only difference is that stacking is done along a new axis. We can concatenate two 1-D arrays along the second axis which would result in putting them one over the other, ie. stacking. We pass a sequence of arrays that we want to join to the `stack()` method along with the axis. If axis is not explicitly passed it is taken as 0."
      ]
    },
    {
      "cell_type": "code",
      "execution_count": null,
      "metadata": {
        "id": "Hg9lq8h1UTT8"
      },
      "outputs": [],
      "source": [
        "arr1 = np.array([1, 2, 3])\n",
        "print(\"arr1 shape:\",arr1.shape)\n",
        "arr2 = np.array([4, 5, 6])\n",
        "print(\"arr2 shape:\",arr2.shape)\n",
        "\n",
        "arr = np.stack((arr1, arr2), axis=1)\n",
        "print(\"arr shape:\",arr.shape)\n",
        "print(arr)"
      ]
    },
    {
      "attachments": {},
      "cell_type": "markdown",
      "metadata": {
        "id": "hiKINLMtYLS3"
      },
      "source": [
        "NumPy provides the helper functions `hstack()`, `vstack()`, and `dstack()` to stack along rows, columns, and height (or depth), respectively:\n",
        "\n"
      ]
    },
    {
      "cell_type": "code",
      "execution_count": null,
      "metadata": {
        "id": "7VMb7OXZO79h"
      },
      "outputs": [],
      "source": [
        "#Stack along rows\n",
        "arr1 = np.array([1, 2, 3])\n",
        "print(\"arr1 shape:\",arr1.shape)\n",
        "arr2 = np.array([4, 5, 6])\n",
        "print(\"arr2 shape:\",arr2.shape)\n",
        "\n",
        "arr = np.hstack((arr1, arr2))\n",
        "print(\"arr shape:\",arr.shape)\n",
        "print(arr)"
      ]
    },
    {
      "cell_type": "code",
      "execution_count": null,
      "metadata": {
        "id": "gDLtqjEfYio1"
      },
      "outputs": [],
      "source": [
        "#Stack along columns\n",
        "arr1 = np.array([1, 2, 3])\n",
        "print(\"arr1 shape:\",arr1.shape)\n",
        "arr2 = np.array([4, 5, 6])\n",
        "print(\"arr2 shape:\",arr2.shape)\n",
        "\n",
        "arr = np.vstack((arr1, arr2))\n",
        "print(\"arr shape:\",arr.shape)\n",
        "print(arr) "
      ]
    },
    {
      "cell_type": "code",
      "execution_count": null,
      "metadata": {
        "id": "rQjavcH96nEZ"
      },
      "outputs": [],
      "source": [
        "#Stack along depth\n",
        "arr1 = np.array([1, 2, 3])\n",
        "print(\"arr1 shape:\",arr1.shape)\n",
        "arr2 = np.array([4, 5, 6])\n",
        "print(\"arr2 shape:\",arr2.shape)\n",
        "\n",
        "arr = np.dstack((arr1, arr2))\n",
        "print(\"arr shape:\",arr.shape)\n",
        "print(arr) "
      ]
    },
    {
      "attachments": {},
      "cell_type": "markdown",
      "metadata": {
        "id": "c-wDNWoqz8Ip"
      },
      "source": [
        "With `newaxis`, we can insert new dimensions in an array, for example converting a vector to a column or row matrix:\n"
      ]
    },
    {
      "cell_type": "code",
      "execution_count": null,
      "metadata": {
        "id": "ZAoqhTXe0A9I"
      },
      "outputs": [],
      "source": [
        "v = np.array([1,2,3])\n",
        "print(v)\n",
        "print(v.shape)"
      ]
    },
    {
      "cell_type": "code",
      "execution_count": null,
      "metadata": {
        "id": "mm37Bxpy0GDC"
      },
      "outputs": [],
      "source": [
        "# make a column matrix of the vector v\n",
        "a = v[:, np.newaxis]\n",
        "print(a)\n",
        "print(a.shape)"
      ]
    },
    {
      "cell_type": "code",
      "execution_count": null,
      "metadata": {
        "id": "sw6s9WXt0s1o"
      },
      "outputs": [],
      "source": [
        "# make a row matrix of the vector v\n",
        "a = v[np.newaxis,:]\n",
        "print(a)\n",
        "print(a.shape)"
      ]
    },
    {
      "attachments": {},
      "cell_type": "markdown",
      "metadata": {
        "id": "d-KG8WX51Vst"
      },
      "source": [
        "Other methods to join and reshape arrays are `repeat` and `tile`:"
      ]
    },
    {
      "cell_type": "code",
      "execution_count": null,
      "metadata": {
        "id": "HkKiR7Ar1ymN"
      },
      "outputs": [],
      "source": [
        "# repeat each element 3 times\n",
        "np.repeat([1,2,5], 3)"
      ]
    },
    {
      "cell_type": "code",
      "execution_count": null,
      "metadata": {
        "id": "sLj5Qhdy13i-"
      },
      "outputs": [],
      "source": [
        "a = np.array([[1, 2], [3, 4]])"
      ]
    },
    {
      "cell_type": "code",
      "execution_count": null,
      "metadata": {
        "id": "RzIj48mM14Iv"
      },
      "outputs": [],
      "source": [
        "# repeat each element from a 3 times\n",
        "np.repeat(a, 3)"
      ]
    },
    {
      "cell_type": "code",
      "execution_count": null,
      "metadata": {
        "id": "ksNaO3Oy2BG6"
      },
      "outputs": [],
      "source": [
        "# tile the matrix a 3 times \n",
        "np.tile(a, 3)"
      ]
    },
    {
      "attachments": {},
      "cell_type": "markdown",
      "metadata": {
        "id": "BAbKbSHYasoW"
      },
      "source": [
        "### Array Search\n",
        "\n",
        "You can search an array for a certain value, and return the indexes that get a match using the `where()` method:"
      ]
    },
    {
      "cell_type": "code",
      "execution_count": null,
      "metadata": {
        "id": "uUCDTzEua02d"
      },
      "outputs": [],
      "source": [
        "arr = np.array([1, 2, 3, 4, 5, 4, 4])\n",
        "x = np.where(arr == 4)\n",
        "print(x) "
      ]
    },
    {
      "attachments": {},
      "cell_type": "markdown",
      "metadata": {
        "id": "L5F6HcF-a69l"
      },
      "source": [
        "The example above will return a tuple: `(array([3, 5, 6],)`. This means that the value 4 is present at index `3`, `5`, and `6`.\n",
        "\n",
        "*Exercise 1: create a NumPy array of integers and find the indexes where the values are even.*\n",
        "\n",
        "*Exercise 2: create a NumPy array of integers and find the indexes where the values are odd.*"
      ]
    },
    {
      "cell_type": "code",
      "execution_count": 73,
      "metadata": {},
      "outputs": [
        {
          "name": "stdout",
          "output_type": "stream",
          "text": [
            "[2 6 1 1 1 1 9 1 6 2]\n",
            "(array([0, 1, 8, 9], dtype=int64),)\n",
            "(array([2, 3, 4, 5, 6, 7], dtype=int64),)\n"
          ]
        }
      ],
      "source": [
        "ex_01_array = np.random.randint(0,10,10)\n",
        "print(ex_01_array)\n",
        "print(np.where(ex_01_array%2==0))\n",
        "print(np.where(ex_01_array%2==1))"
      ]
    },
    {
      "attachments": {},
      "cell_type": "markdown",
      "metadata": {
        "id": "AdpshTOwbzOL"
      },
      "source": [
        "### Filtering Arrays\n",
        "\n",
        "Getting some elements out of an existing array and creating a new array out of them is called *filtering*. In NumPy, you filter an array using a boolean index list.\n",
        "\n",
        "If the value at an index is `True` that element is contained in the filtered array, if the value at that index is `False` that element is excluded from the filtered array."
      ]
    },
    {
      "cell_type": "code",
      "execution_count": null,
      "metadata": {
        "id": "1hg01UEyb-_9"
      },
      "outputs": [],
      "source": [
        "arr = np.array([41, 42, 43, 44])\n",
        "print(\"Before filtering:\")\n",
        "print(arr)\n",
        "\n",
        "x = [True, False, True, False]\n",
        "\n",
        "arr = arr[x]\n",
        "print(\"After filtering:\")\n",
        "print(arr) "
      ]
    },
    {
      "attachments": {},
      "cell_type": "markdown",
      "metadata": {
        "id": "quwnVtBGc9MS"
      },
      "source": [
        "In the example above we hard-coded the `True` and `False` values, but the common use is to create a filter array based on conditions.\n",
        "\n",
        "For example, we can create a filter array that will return only values higher than `42`:"
      ]
    },
    {
      "cell_type": "code",
      "execution_count": 74,
      "metadata": {
        "id": "P76Y9ozydDK3"
      },
      "outputs": [
        {
          "name": "stdout",
          "output_type": "stream",
          "text": [
            "Before filtering:\n",
            "[41 42 43 44]\n",
            "Filter:\n",
            "[False, False, True, True]\n",
            "After filtering:\n",
            "[43 44]\n"
          ]
        }
      ],
      "source": [
        "arr = np.array([41, 42, 43, 44])\n",
        "print(\"Before filtering:\")\n",
        "print(arr)\n",
        "\n",
        "# Create an empty list\n",
        "filter_arr = []\n",
        "\n",
        "# go through each element in arr\n",
        "for element in arr:\n",
        "  # if the element is higher than 42, set the value to True, otherwise False:\n",
        "  if element > 42:\n",
        "    filter_arr.append(True)\n",
        "  else:\n",
        "    filter_arr.append(False)\n",
        "\n",
        "arr = arr[filter_arr]\n",
        "\n",
        "print(\"Filter:\")\n",
        "print(filter_arr)\n",
        "print(\"After filtering:\")\n",
        "print(arr) "
      ]
    },
    {
      "attachments": {},
      "cell_type": "markdown",
      "metadata": {
        "id": "Z2Jlagy_dXnp"
      },
      "source": [
        "The above examples are quite a common task in NumPy and NumPy provides a nice way to tackle it. We can directly substitute the array instead of the iterable variable in our condition and it will work just as we expect it to:"
      ]
    },
    {
      "cell_type": "code",
      "execution_count": 75,
      "metadata": {
        "id": "iDo5KrfDddk7"
      },
      "outputs": [
        {
          "name": "stdout",
          "output_type": "stream",
          "text": [
            "Before filtering:\n",
            "[41 42 43 44]\n",
            "Filter:\n",
            "[False False  True  True]\n",
            "After filtering:\n",
            "[43 44]\n"
          ]
        }
      ],
      "source": [
        "arr = np.array([41, 42, 43, 44])\n",
        "print(\"Before filtering:\")\n",
        "print(arr)\n",
        "\n",
        "filter_arr = arr > 42\n",
        "print(\"Filter:\")\n",
        "print(filter_arr)\n",
        "\n",
        "arr = arr[filter_arr]\n",
        "print(\"After filtering:\")\n",
        "print(arr)"
      ]
    },
    {
      "attachments": {},
      "cell_type": "markdown",
      "metadata": {
        "id": "PH4Dj4ttdxYL"
      },
      "source": [
        "*Exercise: create a filter array that will return only even elements from the original array.*"
      ]
    },
    {
      "cell_type": "code",
      "execution_count": 78,
      "metadata": {},
      "outputs": [
        {
          "name": "stdout",
          "output_type": "stream",
          "text": [
            "[4 8 9 7 4 2 8 5 8 9]\n",
            "[4 8 4 2 8 8]\n"
          ]
        }
      ],
      "source": [
        "ex_01_array = np.random.randint(0,10,10)\n",
        "print(ex_01_array)\n",
        "arr = ex_01_array[ex_01_array%2==0]\n",
        "print(arr)"
      ]
    },
    {
      "attachments": {},
      "cell_type": "markdown",
      "metadata": {
        "id": "G46Nv9WKmVsZ"
      },
      "source": [
        "### Linear Algebra\n",
        "\n",
        "Vectorizing code is the key to writing efficient numerical calculation with Python/Numpy. That means that as much as possible of a program should be formulated in terms of matrix and vector operations, like matrix-matrix multiplication.\n"
      ]
    },
    {
      "attachments": {},
      "cell_type": "markdown",
      "metadata": {
        "id": "Ztqo5FgeoUHQ"
      },
      "source": [
        "**Scalar-array operations**\n",
        "\n",
        "We can use the usual arithmetic operators to multiply, add, subtract, and divide arrays with scalar numbers.\n"
      ]
    },
    {
      "cell_type": "code",
      "execution_count": null,
      "metadata": {
        "id": "NQwqYKuhoYmf"
      },
      "outputs": [],
      "source": [
        "v1 = np.arange(0, 5)\n",
        "print(v1)"
      ]
    },
    {
      "cell_type": "code",
      "execution_count": null,
      "metadata": {
        "id": "RedPDYuDoaYV"
      },
      "outputs": [],
      "source": [
        "arr = v1 * 2\n",
        "print(arr)"
      ]
    },
    {
      "cell_type": "code",
      "execution_count": null,
      "metadata": {
        "id": "qKkB-4UAomEL"
      },
      "outputs": [],
      "source": [
        "arr = v1 + 2\n",
        "print(arr)"
      ]
    },
    {
      "cell_type": "code",
      "execution_count": null,
      "metadata": {
        "id": "OeYM77rpo2GW"
      },
      "outputs": [],
      "source": [
        "A = np.array([[n+m*10 for n in range(5)] for m in range(5)])\n",
        "print(A)\n",
        "print(A*2)\n",
        "print(A+2)"
      ]
    },
    {
      "attachments": {},
      "cell_type": "markdown",
      "metadata": {
        "id": "cP9CtCGApL6j"
      },
      "source": [
        "**Element-wise array-array operations**\n",
        "\n",
        "When we add, subtract, multiply and divide arrays with each other, the default behaviour is element-wise operations:\n"
      ]
    },
    {
      "cell_type": "code",
      "execution_count": null,
      "metadata": {
        "id": "A5rrkvF-pUGA"
      },
      "outputs": [],
      "source": [
        "print(A * A) # element-wise multiplication"
      ]
    },
    {
      "attachments": {},
      "cell_type": "markdown",
      "metadata": {
        "id": "qS4b6EJKphxv"
      },
      "source": [
        "**Broadcasting**\n",
        "\n",
        "(see https://docs.scipy.org/doc/numpy/user/basics.broadcasting.html)\n",
        "\n",
        "If we multiply arrays with compatible shapes, we get an element-wise multiplication of each row:\n"
      ]
    },
    {
      "cell_type": "code",
      "execution_count": null,
      "metadata": {
        "id": "WOm5vnbjpllm"
      },
      "outputs": [],
      "source": [
        "A.shape, v1.shape"
      ]
    },
    {
      "cell_type": "code",
      "execution_count": null,
      "metadata": {
        "id": "eyH4SGacpnMz"
      },
      "outputs": [],
      "source": [
        "A * v1"
      ]
    },
    {
      "attachments": {},
      "cell_type": "markdown",
      "metadata": {
        "id": "XiwWMfsDqCbc"
      },
      "source": [
        "**Matrix algebra**\n",
        "\n",
        "What about matrix mutiplication? There are two ways. We can either use the `dot` function, which applies a matrix-matrix, matrix-vector, or inner vector multiplication to its two arguments:"
      ]
    },
    {
      "cell_type": "code",
      "execution_count": null,
      "metadata": {
        "id": "rNSN_vk3pN5Z"
      },
      "outputs": [],
      "source": [
        "A = np.random.randint(5, size=(2,2))\n",
        "print(A)\n",
        "print(np.dot(A, A))"
      ]
    },
    {
      "cell_type": "code",
      "execution_count": null,
      "metadata": {
        "id": "rP6OX4lMsLz8"
      },
      "outputs": [],
      "source": [
        "v1 = np.random.randint(5, size=(2,))\n",
        "print(v1)\n",
        "print(np.dot(A, v1))"
      ]
    },
    {
      "cell_type": "code",
      "execution_count": null,
      "metadata": {
        "id": "4MKifqihpKvr"
      },
      "outputs": [],
      "source": [
        "np.dot(v1, v1)"
      ]
    },
    {
      "attachments": {},
      "cell_type": "markdown",
      "metadata": {
        "id": "YpXmFKwmuSN2"
      },
      "source": [
        "Alternatively, we can cast the array objects to the type matrix. This changes the behavior of the standard arithmetic operators `+`, `-`, `*` to use matrix algebra.\n"
      ]
    },
    {
      "cell_type": "code",
      "execution_count": null,
      "metadata": {
        "id": "ZzCh5n0EuVrF"
      },
      "outputs": [],
      "source": [
        "M = np.matrix(A)\n",
        "v = np.matrix(v1).T # make it a column vector"
      ]
    },
    {
      "cell_type": "code",
      "execution_count": null,
      "metadata": {
        "id": "VsZsoRKxvIMi"
      },
      "outputs": [],
      "source": [
        "v"
      ]
    },
    {
      "cell_type": "code",
      "execution_count": null,
      "metadata": {
        "id": "Kw1xUVsGvLX8"
      },
      "outputs": [],
      "source": [
        "M * M"
      ]
    },
    {
      "cell_type": "code",
      "execution_count": null,
      "metadata": {
        "id": "NYd0Ow_zvLQw"
      },
      "outputs": [],
      "source": [
        "M * v"
      ]
    },
    {
      "cell_type": "code",
      "execution_count": null,
      "metadata": {
        "id": "rOAijMuRvVLQ"
      },
      "outputs": [],
      "source": [
        "# inner product\n",
        "v.T * v"
      ]
    },
    {
      "cell_type": "code",
      "execution_count": null,
      "metadata": {
        "id": "mKe3ljA-vZNk"
      },
      "outputs": [],
      "source": [
        "# with matrix objects, standard matrix algebra applies\n",
        "v + M*v"
      ]
    },
    {
      "attachments": {},
      "cell_type": "markdown",
      "metadata": {
        "id": "CbQ8E_XmvVDP"
      },
      "source": [
        "If we try to add, subtract or multiply objects with incomplatible shapes we get an error:"
      ]
    },
    {
      "cell_type": "code",
      "execution_count": null,
      "metadata": {
        "id": "AKQYlcEevhl4"
      },
      "outputs": [],
      "source": [
        "v = np.matrix([1,2,3,4,5,6]).T\n",
        "np.shape(M), np.shape(v)"
      ]
    },
    {
      "cell_type": "code",
      "execution_count": null,
      "metadata": {
        "id": "mTQiSYKrvnt6"
      },
      "outputs": [],
      "source": [
        "M * v #error on purpose"
      ]
    },
    {
      "attachments": {},
      "cell_type": "markdown",
      "metadata": {
        "id": "ZmWXU845wBDp"
      },
      "source": [
        "**Array/Matrix transformations**\n",
        "\n",
        "Above we have used the `.T` to transpose the matrix object `v`. We could also have used the transpose function to accomplish the same thing.\n",
        "\n",
        "Other mathematical functions that transforms matrix objects are:"
      ]
    },
    {
      "cell_type": "code",
      "execution_count": null,
      "metadata": {
        "id": "iU-IfsEtwHT-"
      },
      "outputs": [],
      "source": [
        "C = np.matrix([[1j, 2j], [3j, 4j]])\n",
        "C"
      ]
    },
    {
      "cell_type": "code",
      "execution_count": null,
      "metadata": {
        "id": "2tY-lTvnwLkP"
      },
      "outputs": [],
      "source": [
        "np.conjugate(C)"
      ]
    },
    {
      "cell_type": "code",
      "execution_count": null,
      "metadata": {
        "id": "b-DbRNQFwRKU"
      },
      "outputs": [],
      "source": [
        "#Hermitian conjugate: transpose + conjugate\n",
        "C.H"
      ]
    },
    {
      "attachments": {},
      "cell_type": "markdown",
      "metadata": {
        "id": "-lVELkDVwZYB"
      },
      "source": [
        "We can extract the real and imaginary parts of complex-valued arrays using `real` and `imag` methods:"
      ]
    },
    {
      "cell_type": "code",
      "execution_count": null,
      "metadata": {
        "id": "Pe05a1Euwcg0"
      },
      "outputs": [],
      "source": [
        "np.real(C) # same as: C.real"
      ]
    },
    {
      "cell_type": "code",
      "execution_count": null,
      "metadata": {
        "id": "zqMC1kUxwf0Y"
      },
      "outputs": [],
      "source": [
        "np.imag(C) # same as: C.imag"
      ]
    },
    {
      "attachments": {},
      "cell_type": "markdown",
      "metadata": {
        "id": "rBs9dkU8wkqP"
      },
      "source": [
        "Or we can extract the complex argument and absolute value:"
      ]
    },
    {
      "cell_type": "code",
      "execution_count": null,
      "metadata": {
        "id": "dVq5Qq3dwnXh"
      },
      "outputs": [],
      "source": [
        "np.angle(C+1)"
      ]
    },
    {
      "cell_type": "code",
      "execution_count": null,
      "metadata": {
        "id": "OIPJ_dKMwj-r"
      },
      "outputs": [],
      "source": [
        "np.abs(C)"
      ]
    },
    {
      "attachments": {},
      "cell_type": "markdown",
      "metadata": {
        "id": "fvorqUnhwzMU"
      },
      "source": [
        "**Matrix computations**"
      ]
    },
    {
      "cell_type": "code",
      "execution_count": null,
      "metadata": {
        "id": "NeTuXB3uw1Tq"
      },
      "outputs": [],
      "source": [
        "#inverse\n",
        "np.linalg.inv(C) # equivalent to C.I "
      ]
    },
    {
      "cell_type": "code",
      "execution_count": null,
      "metadata": {
        "id": "ppjzGOp5w7hw"
      },
      "outputs": [],
      "source": [
        "C.I * C"
      ]
    },
    {
      "cell_type": "code",
      "execution_count": null,
      "metadata": {
        "id": "YU87DYVrxF1O"
      },
      "outputs": [],
      "source": [
        "#Determinant\n",
        "np.linalg.det(C)"
      ]
    },
    {
      "cell_type": "code",
      "execution_count": null,
      "metadata": {
        "id": "cxotS2vYxLGz"
      },
      "outputs": [],
      "source": [
        "np.linalg.det(C.I)"
      ]
    },
    {
      "attachments": {},
      "cell_type": "markdown",
      "metadata": {
        "id": "S_vdDKDrizL4"
      },
      "source": [
        "## Arrays I/O\n",
        "\n",
        "**Comma-separated values (CSV)**\n",
        "\n",
        "A very common file format for data files are the comma-separated values (CSV), or related format such as TSV (tab-separated values). To read data from such file into Numpy arrays we can use the `numpy.genfromtxt()` function. For example,\n"
      ]
    },
    {
      "cell_type": "code",
      "execution_count": null,
      "metadata": {
        "id": "H4y9RhgLi6Gr"
      },
      "outputs": [],
      "source": [
        "#Fetch data file from githun\n",
        "!curl https://raw.githubusercontent.com/jngadiub/ML_course_Pavia_23/main/python_advance/stockholm_td_adj.dat -o stockholm_td_adj.dat\n",
        "\n",
        "#Look first 10 lines of file\n",
        "!head stockholm_td_adj.dat"
      ]
    },
    {
      "cell_type": "code",
      "execution_count": null,
      "metadata": {
        "id": "8aCRAaTcbtsq"
      },
      "outputs": [],
      "source": [
        "data = np.genfromtxt('stockholm_td_adj.dat')\n",
        "data.shape"
      ]
    },
    {
      "cell_type": "code",
      "execution_count": null,
      "metadata": {
        "id": "fWEkKt_vkDD4"
      },
      "outputs": [],
      "source": [
        "# we need this for plotting -- more on matlplotlib in next tutorial\n",
        "import matplotlib.pyplot as plt\n",
        "%matplotlib inline"
      ]
    },
    {
      "cell_type": "code",
      "execution_count": null,
      "metadata": {
        "id": "IcLcy5kQkLSk"
      },
      "outputs": [],
      "source": [
        "#Now we plot the data\n",
        "fig, ax = plt.subplots(figsize=(14,4))\n",
        "ax.plot(data[:,0]+data[:,1]/12.0+data[:,2]/365, data[:,5])\n",
        "ax.axis('tight')\n",
        "ax.set_title('tempeatures in Stockholm')\n",
        "ax.set_xlabel('year')\n",
        "ax.set_ylabel('temperature (C)');"
      ]
    },
    {
      "attachments": {},
      "cell_type": "markdown",
      "metadata": {
        "id": "nx8P4zqdkuKi"
      },
      "source": [
        "Using `numpy.savetxt()` we can store a Numpy array to a file in CSV format:\n"
      ]
    },
    {
      "cell_type": "code",
      "execution_count": null,
      "metadata": {
        "id": "v8vblAIvkjgy"
      },
      "outputs": [],
      "source": [
        "arr = np.random.rand(3,3)\n",
        "print(arr)"
      ]
    },
    {
      "cell_type": "code",
      "execution_count": null,
      "metadata": {
        "id": "d9sB12d-k1fo"
      },
      "outputs": [],
      "source": [
        "np.savetxt(\"random-matrix.csv\", arr)\n",
        "!ls ./"
      ]
    },
    {
      "cell_type": "code",
      "execution_count": null,
      "metadata": {
        "id": "B-_u0KNPk6FH"
      },
      "outputs": [],
      "source": [
        "#Let's look at the file\n",
        "!cat random-matrix.csv"
      ]
    },
    {
      "cell_type": "code",
      "execution_count": null,
      "metadata": {
        "id": "gh4zUGuclAJJ"
      },
      "outputs": [],
      "source": [
        "np.savetxt(\"random-matrix.csv\", arr, fmt='%.5f') # fmt specifies the format\n",
        "!cat random-matrix.csv"
      ]
    },
    {
      "attachments": {},
      "cell_type": "markdown",
      "metadata": {
        "id": "CaGgUwK-lY8F"
      },
      "source": [
        "**Numpy's native file format**\n",
        "\n",
        "Useful when storing and reading back NumPy array data. Use the functions `numpy.save()` and `numpy.load()`:\n"
      ]
    },
    {
      "cell_type": "code",
      "execution_count": null,
      "metadata": {
        "id": "JKsst7wQli5t"
      },
      "outputs": [],
      "source": [
        "arr = np.random.rand(3,3)\n",
        "print(arr)\n",
        "\n",
        "np.save(\"random-matrix.npy\", arr)\n",
        "!ls ./"
      ]
    },
    {
      "cell_type": "code",
      "execution_count": null,
      "metadata": {
        "id": "aPSaWeOnlN4m"
      },
      "outputs": [],
      "source": [
        "arr = np.load(\"random-matrix.npy\")\n",
        "print(arr)"
      ]
    },
    {
      "attachments": {},
      "cell_type": "markdown",
      "metadata": {
        "id": "r9fIMmqFxfn1"
      },
      "source": [
        "### Data processing\n",
        "\n",
        "Often it is useful to store datasets in Numpy arrays. Numpy provides a number of functions to calculate statistics of datasets in arrays.\n",
        "\n",
        "For example, let's calculate some properties data from the Stockholm temperature dataset used above.\n"
      ]
    },
    {
      "cell_type": "code",
      "execution_count": null,
      "metadata": {
        "id": "jfwpB97dl0mQ"
      },
      "outputs": [],
      "source": [
        "# reminder, the tempeature dataset is stored in the data variable:\n",
        "np.shape(data)"
      ]
    },
    {
      "attachments": {},
      "cell_type": "markdown",
      "metadata": {
        "id": "1JtcX9cMxs7c"
      },
      "source": [
        "**mean**"
      ]
    },
    {
      "cell_type": "code",
      "execution_count": null,
      "metadata": {
        "id": "OuQakvJDxqHu"
      },
      "outputs": [],
      "source": [
        "# the temperature data is in column 3\n",
        "np.mean(data[:,3])"
      ]
    },
    {
      "attachments": {},
      "cell_type": "markdown",
      "metadata": {
        "id": "CRyst33FxyZy"
      },
      "source": [
        "The daily mean temperature in Stockholm over the last 200 year so has been about 6.2 C."
      ]
    },
    {
      "attachments": {},
      "cell_type": "markdown",
      "metadata": {
        "id": "X0pdBFlmx2yU"
      },
      "source": [
        "**standard deviations and variance**"
      ]
    },
    {
      "cell_type": "code",
      "execution_count": null,
      "metadata": {
        "id": "hrTmzDsxxvnT"
      },
      "outputs": [],
      "source": [
        "np.std(data[:,3]), np.var(data[:,3])"
      ]
    },
    {
      "attachments": {},
      "cell_type": "markdown",
      "metadata": {
        "id": "WaXzSUAIx6-t"
      },
      "source": [
        "**min and max**"
      ]
    },
    {
      "cell_type": "code",
      "execution_count": null,
      "metadata": {
        "id": "9In49l4cx9vk"
      },
      "outputs": [],
      "source": [
        "# lowest daily average temperature\n",
        "data[:,3].min()"
      ]
    },
    {
      "cell_type": "code",
      "execution_count": null,
      "metadata": {
        "id": "fTZ5sCevyBmQ"
      },
      "outputs": [],
      "source": [
        "# highest daily average temperature\n",
        "data[:,3].max()"
      ]
    },
    {
      "attachments": {},
      "cell_type": "markdown",
      "metadata": {
        "id": "PQDZLeD7yHqB"
      },
      "source": [
        "**sum, prod, and trace**"
      ]
    },
    {
      "cell_type": "code",
      "execution_count": null,
      "metadata": {
        "id": "Dj71beDcyEnJ"
      },
      "outputs": [],
      "source": [
        "d = np.arange(0, 10)\n",
        "d"
      ]
    },
    {
      "cell_type": "code",
      "execution_count": null,
      "metadata": {
        "id": "V8_eS_lnyMzQ"
      },
      "outputs": [],
      "source": [
        "# sum up all elements\n",
        "np.sum(d)"
      ]
    },
    {
      "cell_type": "code",
      "execution_count": null,
      "metadata": {
        "id": "TndGIrRgyPYy"
      },
      "outputs": [],
      "source": [
        "# product of all elements\n",
        "np.prod(d+1)"
      ]
    },
    {
      "cell_type": "code",
      "execution_count": null,
      "metadata": {
        "id": "zfDLw-aKySaD"
      },
      "outputs": [],
      "source": [
        "# cummulative sum\n",
        "np.cumsum(d)"
      ]
    },
    {
      "cell_type": "code",
      "execution_count": null,
      "metadata": {
        "id": "4M8WWKBlyU_V"
      },
      "outputs": [],
      "source": [
        "# cummulative product\n",
        "np.cumprod(d+1)"
      ]
    },
    {
      "cell_type": "code",
      "execution_count": null,
      "metadata": {
        "id": "55_2-MS3yj7G"
      },
      "outputs": [],
      "source": [
        "# same as: diag(A).sum()\n",
        "np.trace(A)"
      ]
    },
    {
      "attachments": {},
      "cell_type": "markdown",
      "metadata": {
        "id": "_25lEXO-zHaj"
      },
      "source": [
        "**Calculations with higher-dimensional data**\n",
        "\n",
        "When functions such as `min`, `max`, etc., is applied to multidimensional arrays, it is sometimes useful to apply the calculation to the entire array, and sometimes only on a row or column basis. Using the `axis` argument we can specify how these functions should behave:\n"
      ]
    },
    {
      "cell_type": "code",
      "execution_count": null,
      "metadata": {
        "id": "6_ccRgFVymm3"
      },
      "outputs": [],
      "source": [
        "m = np.random.rand(3,3)\n",
        "m"
      ]
    },
    {
      "cell_type": "code",
      "execution_count": null,
      "metadata": {
        "id": "Qys3LK0lzT3m"
      },
      "outputs": [],
      "source": [
        "# global max\n",
        "m.max()"
      ]
    },
    {
      "cell_type": "code",
      "execution_count": null,
      "metadata": {
        "id": "jk2oa7ZQzW5I"
      },
      "outputs": [],
      "source": [
        "# max in each column\n",
        "m.max(axis=0)"
      ]
    },
    {
      "cell_type": "code",
      "execution_count": null,
      "metadata": {
        "id": "q3nK8FJizaP6"
      },
      "outputs": [],
      "source": [
        "# max in each row\n",
        "m.max(axis=1)"
      ]
    },
    {
      "attachments": {},
      "cell_type": "markdown",
      "metadata": {
        "id": "VLr1JcBCzmOf"
      },
      "source": [
        "**Note:** Many other functions and methods in the array and matrix classes accept the same (optional) `axis` keyword argument.\n"
      ]
    }
  ],
  "metadata": {
    "colab": {
      "authorship_tag": "ABX9TyO5XuwIHi28FlwaSFN+VnN8",
      "include_colab_link": true,
      "provenance": []
    },
    "kernelspec": {
      "display_name": "Python 3",
      "name": "python3"
    },
    "language_info": {
      "codemirror_mode": {
        "name": "ipython",
        "version": 3
      },
      "file_extension": ".py",
      "mimetype": "text/x-python",
      "name": "python",
      "nbconvert_exporter": "python",
      "pygments_lexer": "ipython3",
      "version": "3.10.11"
    }
  },
  "nbformat": 4,
  "nbformat_minor": 0
}
